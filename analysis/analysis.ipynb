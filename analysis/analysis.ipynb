{
 "cells": [
  {
   "cell_type": "code",
   "execution_count": 1,
   "metadata": {},
   "outputs": [],
   "source": [
    "import re\n",
    "import pandas as pd\n",
    "import numpy as np\n",
    "from firebase_admin import credentials, firestore, initialize_app\n",
    "import matplotlib.pyplot as plt\n",
    "%matplotlib inline\n",
    "\n",
    "initialize_app(credentials.Certificate('cred.json'))\n",
    "db = firestore.client()"
   ]
  },
  {
   "cell_type": "code",
   "execution_count": 2,
   "metadata": {},
   "outputs": [
    {
     "data": {
      "text/plain": [
       "6404"
      ]
     },
     "metadata": {},
     "output_type": "display_data"
    }
   ],
   "source": [
    "keys_expected = 11\n",
    "\n",
    "def filter_func(x):\n",
    "    keys = x.keys()\n",
    "    vals = x.values();\n",
    "    \n",
    "    if (len(keys) != keys_expected):\n",
    "        return False\n",
    "    \n",
    "    if ('undefined' in vals or None in vals):\n",
    "        return False\n",
    "    \n",
    "    return True\n",
    "    \n",
    "\n",
    "logs = list(filter(filter_func, map(lambda x: x.to_dict(), db.collection('logs').stream())))\n",
    "display(len(logs))"
   ]
  },
  {
   "cell_type": "code",
   "execution_count": 3,
   "metadata": {},
   "outputs": [
    {
     "data": {
      "text/html": [
       "<div>\n",
       "<style scoped>\n",
       "    .dataframe tbody tr th:only-of-type {\n",
       "        vertical-align: middle;\n",
       "    }\n",
       "\n",
       "    .dataframe tbody tr th {\n",
       "        vertical-align: top;\n",
       "    }\n",
       "\n",
       "    .dataframe thead th {\n",
       "        text-align: right;\n",
       "    }\n",
       "</style>\n",
       "<table border=\"1\" class=\"dataframe\">\n",
       "  <thead>\n",
       "    <tr style=\"text-align: right;\">\n",
       "      <th></th>\n",
       "      <th>timeWrite</th>\n",
       "      <th>databaseType</th>\n",
       "      <th>totalTime</th>\n",
       "      <th>timestamp</th>\n",
       "      <th>serverType</th>\n",
       "      <th>clientTotalTime</th>\n",
       "      <th>timeRead</th>\n",
       "      <th>requestSize</th>\n",
       "      <th>frequency</th>\n",
       "      <th>timeDelete</th>\n",
       "      <th>combined_key</th>\n",
       "    </tr>\n",
       "    <tr>\n",
       "      <th>id</th>\n",
       "      <th></th>\n",
       "      <th></th>\n",
       "      <th></th>\n",
       "      <th></th>\n",
       "      <th></th>\n",
       "      <th></th>\n",
       "      <th></th>\n",
       "      <th></th>\n",
       "      <th></th>\n",
       "      <th></th>\n",
       "      <th></th>\n",
       "    </tr>\n",
       "  </thead>\n",
       "  <tbody>\n",
       "    <tr>\n",
       "      <td>-154RXO_</td>\n",
       "      <td>67</td>\n",
       "      <td>nosql</td>\n",
       "      <td>217</td>\n",
       "      <td>1584461244887</td>\n",
       "      <td>java</td>\n",
       "      <td>8743</td>\n",
       "      <td>39</td>\n",
       "      <td>1</td>\n",
       "      <td>5</td>\n",
       "      <td>29</td>\n",
       "      <td>java + nosql</td>\n",
       "    </tr>\n",
       "    <tr>\n",
       "      <td>-1dDKDwMA</td>\n",
       "      <td>62</td>\n",
       "      <td>sql</td>\n",
       "      <td>247</td>\n",
       "      <td>1584488153521</td>\n",
       "      <td>java</td>\n",
       "      <td>9903</td>\n",
       "      <td>2</td>\n",
       "      <td>1</td>\n",
       "      <td>5</td>\n",
       "      <td>8</td>\n",
       "      <td>java + sql</td>\n",
       "    </tr>\n",
       "    <tr>\n",
       "      <td>-2m4PfQZl</td>\n",
       "      <td>54</td>\n",
       "      <td>nosql</td>\n",
       "      <td>169</td>\n",
       "      <td>1584489502071</td>\n",
       "      <td>java</td>\n",
       "      <td>10092</td>\n",
       "      <td>18</td>\n",
       "      <td>1</td>\n",
       "      <td>5</td>\n",
       "      <td>66</td>\n",
       "      <td>java + nosql</td>\n",
       "    </tr>\n",
       "    <tr>\n",
       "      <td>-45mb8wl</td>\n",
       "      <td>41</td>\n",
       "      <td>nosql</td>\n",
       "      <td>136</td>\n",
       "      <td>1584503294576</td>\n",
       "      <td>nodejs</td>\n",
       "      <td>279</td>\n",
       "      <td>24</td>\n",
       "      <td>5</td>\n",
       "      <td>5</td>\n",
       "      <td>41</td>\n",
       "      <td>nodejs + nosql</td>\n",
       "    </tr>\n",
       "    <tr>\n",
       "      <td>-5DJdPfC</td>\n",
       "      <td>75</td>\n",
       "      <td>nosql</td>\n",
       "      <td>254</td>\n",
       "      <td>1584426403710</td>\n",
       "      <td>java</td>\n",
       "      <td>10325</td>\n",
       "      <td>26</td>\n",
       "      <td>1</td>\n",
       "      <td>5</td>\n",
       "      <td>80</td>\n",
       "      <td>java + nosql</td>\n",
       "    </tr>\n",
       "  </tbody>\n",
       "</table>\n",
       "</div>"
      ],
      "text/plain": [
       "           timeWrite databaseType  totalTime      timestamp serverType  \\\n",
       "id                                                                       \n",
       "-154RXO_          67        nosql        217  1584461244887       java   \n",
       "-1dDKDwMA         62          sql        247  1584488153521       java   \n",
       "-2m4PfQZl         54        nosql        169  1584489502071       java   \n",
       "-45mb8wl          41        nosql        136  1584503294576     nodejs   \n",
       "-5DJdPfC          75        nosql        254  1584426403710       java   \n",
       "\n",
       "           clientTotalTime  timeRead requestSize frequency  timeDelete  \\\n",
       "id                                                                       \n",
       "-154RXO_              8743        39           1         5          29   \n",
       "-1dDKDwMA             9903         2           1         5           8   \n",
       "-2m4PfQZl            10092        18           1         5          66   \n",
       "-45mb8wl               279        24           5         5          41   \n",
       "-5DJdPfC             10325        26           1         5          80   \n",
       "\n",
       "             combined_key  \n",
       "id                         \n",
       "-154RXO_     java + nosql  \n",
       "-1dDKDwMA      java + sql  \n",
       "-2m4PfQZl    java + nosql  \n",
       "-45mb8wl   nodejs + nosql  \n",
       "-5DJdPfC     java + nosql  "
      ]
     },
     "execution_count": 3,
     "metadata": {},
     "output_type": "execute_result"
    }
   ],
   "source": [
    "key = 'combined_key'\n",
    "df = pd.DataFrame(logs)\n",
    "df.set_index('id', inplace = True)\n",
    "df[key] = df.apply(lambda row: row.serverType + ' + ' + row.databaseType, axis = 1)\n",
    "df.head()"
   ]
  },
  {
   "cell_type": "code",
   "execution_count": 4,
   "metadata": {},
   "outputs": [
    {
     "data": {
      "text/plain": [
       "(6404, 11)"
      ]
     },
     "metadata": {},
     "output_type": "display_data"
    },
    {
     "data": {
      "text/plain": [
       "timeWrite           int64\n",
       "databaseType       object\n",
       "totalTime           int64\n",
       "timestamp           int64\n",
       "serverType         object\n",
       "clientTotalTime     int64\n",
       "timeRead            int64\n",
       "requestSize        object\n",
       "frequency          object\n",
       "timeDelete          int64\n",
       "combined_key       object\n",
       "dtype: object"
      ]
     },
     "metadata": {},
     "output_type": "display_data"
    },
    {
     "data": {
      "text/plain": [
       "array(['1', '5'], dtype=object)"
      ]
     },
     "metadata": {},
     "output_type": "display_data"
    },
    {
     "data": {
      "text/plain": [
       "array(['java + nosql', 'java + sql', 'nodejs + nosql', 'nodejs + sql'],\n",
       "      dtype=object)"
      ]
     },
     "metadata": {},
     "output_type": "display_data"
    }
   ],
   "source": [
    "display(df.shape, df.dtypes, df['requestSize'].unique(), df[key].unique())"
   ]
  },
  {
   "cell_type": "code",
   "execution_count": 6,
   "metadata": {},
   "outputs": [
    {
     "data": {
      "image/png": "[encoded data removed]",
      "text/plain": [
       "<Figure size 1296x576 with 1 Axes>"
      ]
     },
     "metadata": {
      "needs_background": "light"
     },
     "output_type": "display_data"
    }
   ],
   "source": [
    "labels = df[key].unique()\n",
    "req_size = '1'\n",
    "\n",
    "write = 'timeWrite'\n",
    "read = 'timeRead'\n",
    "delete = 'timeDelete'\n",
    "total = 'totalTime'\n",
    "\n",
    "\n",
    "write_means = []\n",
    "read_means = []\n",
    "delete_means = []\n",
    "total_means = []\n",
    "\n",
    "for label in labels:\n",
    "    new_df = df.loc[(df[key] == label) & (df['requestSize'] == req_size)].copy()\n",
    "    \n",
    "    write_mean = new_df[[write]].to_numpy().mean()\n",
    "    read_mean = new_df[[read]].to_numpy().mean()\n",
    "    delete_mean = new_df[[delete]].to_numpy().mean()\n",
    "    total_mean = new_df[[total]].to_numpy().mean()\n",
    "    \n",
    "    write_means.append(write_mean)\n",
    "    read_means.append(read_mean)\n",
    "    delete_means.append(delete_mean)\n",
    "    total_means.append(total_mean)\n",
    "    \n",
    "\n",
    "def autolabel(rects):\n",
    "    \"\"\"Attach a text label above each bar in *rects*, displaying its height.\"\"\"\n",
    "    for rect in rects:\n",
    "        height = rect.get_height()\n",
    "        ax.annotate('{:.0f}'.format(height),\n",
    "                    xy=(rect.get_x() + rect.get_width() / 2, height),\n",
    "                    xytext=(0, 3),  # 3 points vertical offset\n",
    "                    textcoords=\"offset points\",\n",
    "                    ha='center', va='bottom')\n",
    "\n",
    "ind = np.arange(len(labels))  \n",
    "width = 0.15 \n",
    "\n",
    "fig, ax = plt.subplots()\n",
    "rects2 = ax.bar(ind - 1.5 * width, read_means, width, label = 'DB Read')\n",
    "rects3 = ax.bar(ind - 0.5 * width, delete_means, width, label = 'DB Delete')\n",
    "rects1 = ax.bar(ind + 0.5 * width, write_means, width, label = 'DB Write')\n",
    "rects4 = ax.bar(ind + 1.5 * width, total_means, width, label = 'Total')\n",
    "\n",
    "ax.set_ylabel('Mean Time (ms)')\n",
    "ax.set_ylim(0)\n",
    "ax.set_title('Mean Times vs Server and Operation type (1KB payload, n = 6404)')\n",
    "ax.set_xticks(ind)\n",
    "ax.set_xticklabels(labels)\n",
    "ax.legend()\n",
    "ax.autoscale_view()\n",
    "\n",
    "autolabel(rects1)\n",
    "autolabel(rects2)\n",
    "autolabel(rects3)\n",
    "autolabel(rects4)\n",
    "\n",
    "fig.set_size_inches(18, 8)\n",
    "plt.show()"
   ]
  }
 ],
 "metadata": {
  "kernelspec": {
   "display_name": "Python 3",
   "language": "python",
   "name": "python3"
  },
  "language_info": {
   "codemirror_mode": {
    "name": "ipython",
    "version": 3
   },
   "file_extension": ".py",
   "mimetype": "text/x-python",
   "name": "python",
   "nbconvert_exporter": "python",
   "pygments_lexer": "ipython3",
   "version": "3.6.9"
  }
 },
 "nbformat": 4,
 "nbformat_minor": 4
}
