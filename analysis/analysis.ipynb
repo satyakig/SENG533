{
 "cells": [
  {
   "cell_type": "code",
   "execution_count": 1,
   "metadata": {},
   "outputs": [],
   "source": [
    "import re\n",
    "import pandas as pd\n",
    "import numpy as np\n",
    "from firebase_admin import credentials, firestore, initialize_app\n",
    "import matplotlib.pyplot as plt\n",
    "%matplotlib inline\n",
    "\n",
    "initialize_app(credentials.Certificate('cred.json'))\n",
    "db = firestore.client()"
   ]
  },
  {
   "cell_type": "code",
   "execution_count": 2,
   "metadata": {},
   "outputs": [
    {
     "data": {
      "text/plain": [
       "4593"
      ]
     },
     "metadata": {},
     "output_type": "display_data"
    }
   ],
   "source": [
    "keys_expected = 11\n",
    "\n",
    "def filter_func(x):\n",
    "    keys = x.keys()\n",
    "    vals = x.values();\n",
    "    \n",
    "    if (len(keys) != keys_expected):\n",
    "        return False\n",
    "    \n",
    "    if ('undefined' in vals or None in vals):\n",
    "        return False\n",
    "    \n",
    "    return True\n",
    "    \n",
    "\n",
    "logs = list(filter(filter_func, map(lambda x: x.to_dict(), db.collection('logs').stream())))\n",
    "display(len(logs))\n"
   ]
  },
  {
   "cell_type": "code",
   "execution_count": 3,
   "metadata": {},
   "outputs": [
    {
     "data": {
      "text/plain": [
       "array(['java + nosql', 'java + sql', 'nodejs + nosql'], dtype=object)"
      ]
     },
     "execution_count": 3,
     "metadata": {},
     "output_type": "execute_result"
    }
   ],
   "source": [
    "key = 'combined_key'\n",
    "df = pd.DataFrame(logs)\n",
    "df.set_index('id', inplace = True)\n",
    "df[key] = df.apply(lambda row: row.serverType + ' + ' + row.databaseType, axis = 1)\n",
    "df.head()\n",
    "df[key].unique()"
   ]
  },
  {
   "cell_type": "code",
   "execution_count": 4,
   "metadata": {},
   "outputs": [
    {
     "data": {
      "text/plain": [
       "(4593, 11)"
      ]
     },
     "metadata": {},
     "output_type": "display_data"
    },
    {
     "data": {
      "text/plain": [
       "totalTime           int64\n",
       "timestamp           int64\n",
       "serverType         object\n",
       "clientTotalTime     int64\n",
       "timeRead            int64\n",
       "requestSize        object\n",
       "timeDelete          int64\n",
       "frequency          object\n",
       "timeWrite           int64\n",
       "databaseType       object\n",
       "combined_key       object\n",
       "dtype: object"
      ]
     },
     "metadata": {},
     "output_type": "display_data"
    },
    {
     "data": {
      "text/plain": [
       "array(['1', '5'], dtype=object)"
      ]
     },
     "metadata": {},
     "output_type": "display_data"
    },
    {
     "data": {
      "text/plain": [
       "array(['java + nosql', 'java + sql', 'nodejs + nosql'], dtype=object)"
      ]
     },
     "metadata": {},
     "output_type": "display_data"
    }
   ],
   "source": [
    "display(df.shape, df.dtypes, df['requestSize'].unique(), df[key].unique())"
   ]
  },
  {
   "cell_type": "code",
   "execution_count": null,
   "metadata": {},
   "outputs": [],
   "source": [
    "labels = df[key].unique()\n",
    "req_size = '1'\n",
    "\n",
    "write = 'timeWrite'\n",
    "read = 'timeRead'\n",
    "delete = 'timeDelete'\n",
    "total = 'totalTime'\n",
    "\n",
    "\n",
    "write_means = []\n",
    "read_means = []\n",
    "delete_means = []\n",
    "total_means = []\n",
    "\n",
    "for label in labels:\n",
    "    new_df = df.loc[(df[key] == label) & (df['requestSize'] == req_size)].copy()\n",
    "    \n",
    "    write_mean = new_df[[write]].to_numpy().mean()\n",
    "    read_mean = new_df[[read]].to_numpy().mean()\n",
    "    delete_mean = new_df[[delete]].to_numpy().mean()\n",
    "    total_mean = new_df[[total]].to_numpy().mean()\n",
    "    \n",
    "    write_means.append(write_mean)\n",
    "    read_means.append(read_mean)\n",
    "    delete_means.append(delete_mean)\n",
    "    total_means.append(total_mean)\n",
    "    \n",
    "\n",
    "def autolabel(rects):\n",
    "    \"\"\"Attach a text label above each bar in *rects*, displaying its height.\"\"\"\n",
    "    for rect in rects:\n",
    "        height = rect.get_height()\n",
    "        ax.annotate('{:.0f}'.format(height),\n",
    "                    xy=(rect.get_x() + rect.get_width() / 2, height),\n",
    "                    xytext=(0, 3),  # 3 points vertical offset\n",
    "                    textcoords=\"offset points\",\n",
    "                    ha='center', va='bottom')\n",
    "\n",
    "ind = np.arange(len(labels))  \n",
    "width = 0.15 \n",
    "\n",
    "fig, ax = plt.subplots()\n",
    "rects2 = ax.bar(ind - 1.5 * width, read_means, width, label = 'DB Read')\n",
    "rects3 = ax.bar(ind - 0.5 * width, delete_means, width, label = 'DB Delete')\n",
    "rects1 = ax.bar(ind + 0.5 * width, write_means, width, label = 'DB Write')\n",
    "rects4 = ax.bar(ind + 1.5 * width, total_means, width, label = 'Total')\n",
    "\n",
    "ax.set_ylabel('Mean Time (ms)')\n",
    "ax.set_ylim(0)\n",
    "ax.set_title('Mean Times vs Server and Operation type (1KB payload)')\n",
    "ax.set_xticks(ind)\n",
    "ax.set_xticklabels(labels)\n",
    "ax.legend()\n",
    "ax.autoscale_view()\n",
    "\n",
    "autolabel(rects1)\n",
    "autolabel(rects2)\n",
    "autolabel(rects3)\n",
    "autolabel(rects4)\n",
    "\n",
    "fig.set_size_inches(20, 10)\n",
    "plt.show()"
   ]
  },
  {
   "cell_type": "code",
   "execution_count": null,
   "metadata": {},
   "outputs": [],
   "source": []
  }
 ],
 "metadata": {
  "kernelspec": {
   "display_name": "Python 3",
   "language": "python",
   "name": "python3"
  },
  "language_info": {
   "codemirror_mode": {
    "name": "ipython",
    "version": 3
   },
   "file_extension": ".py",
   "mimetype": "text/x-python",
   "name": "python",
   "nbconvert_exporter": "python",
   "pygments_lexer": "ipython3",
   "version": "3.6.9"
  }
 },
 "nbformat": 4,
 "nbformat_minor": 4
}
